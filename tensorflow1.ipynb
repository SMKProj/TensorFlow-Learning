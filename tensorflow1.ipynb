{
 "cells": [
  {
   "cell_type": "markdown",
   "metadata": {},
   "source": [
    "Using Keras Hub Layer for Implementing Neural Network for Imdb Review Dataset by following Tensorflow Tutorials"
   ]
  },
  {
   "cell_type": "code",
   "execution_count": 2,
   "metadata": {},
   "outputs": [],
   "source": [
    "import numpy as np\n",
    "import tensorflow as tf\n",
    "import tensorflow_hub as hub\n",
    "import tensorflow_datasets as tfds\n",
    "from tensorflow import keras\n",
    "import matplotlib.pyplot as plt"
   ]
  },
  {
   "cell_type": "code",
   "execution_count": 9,
   "metadata": {},
   "outputs": [],
   "source": [
    "train_data, test_data = tfds.load(name=\"imdb_reviews\", split=[\"train\", \"test\"], batch_size=-1, as_supervised=True)"
   ]
  },
  {
   "cell_type": "code",
   "execution_count": 10,
   "metadata": {},
   "outputs": [],
   "source": [
    "x_train,y_train = tfds.as_numpy(train_data)\n",
    "x_test,y_test = tfds.as_numpy(test_data)"
   ]
  },
  {
   "cell_type": "code",
   "execution_count": 11,
   "metadata": {},
   "outputs": [
    {
     "name": "stdout",
     "output_type": "stream",
     "text": [
      "Training entries: 25000, test entries: 25000\n"
     ]
    }
   ],
   "source": [
    "print(\"Training entries: {}, test entries: {}\".format(len(x_train), len(x_test)))"
   ]
  },
  {
   "cell_type": "code",
   "execution_count": 14,
   "metadata": {},
   "outputs": [],
   "source": [
    "def make_input_fn(x_train,y_train, num_epochs = 10, shuffle=True, batchsize=32):\n",
    "    def input_function():\n",
    "        ds = tf.data.Dataset.from_Tensore_slices(dict(x_train),y_train)\n",
    "        if shuffle:\n",
    "            ds = ds.shuffle(1000)\n",
    "        ds = ds.batch(batchsize).repeat(num_epochs)\n",
    "        return ds\n",
    "    return input_function"
   ]
  },
  {
   "cell_type": "code",
   "execution_count": 15,
   "metadata": {},
   "outputs": [],
   "source": [
    "train_ip_fn = make_input_fn(x_train,y_train)\n",
    "test_ip_fn = make_input_fn(x_test,y_test, num_epochs=1,shuffle=False)"
   ]
  },
  {
   "cell_type": "code",
   "execution_count": 16,
   "metadata": {},
   "outputs": [
    {
     "data": {
      "text/plain": [
       "<tf.Tensor: shape=(1, 50), dtype=float32, numpy=\n",
       "array([[ 0.5423195 , -0.0119017 ,  0.06337538,  0.06862972, -0.16776837,\n",
       "        -0.10581174,  0.16865303, -0.04998824, -0.31148055,  0.07910346,\n",
       "         0.15442263,  0.01488662,  0.03930153,  0.19772711, -0.12215476,\n",
       "        -0.04120981, -0.2704109 , -0.21922152,  0.26517662, -0.80739075,\n",
       "         0.25833532, -0.3100421 ,  0.28683215,  0.1943387 , -0.29036492,\n",
       "         0.03862849, -0.7844411 , -0.0479324 ,  0.4110299 , -0.36388892,\n",
       "        -0.58034706,  0.30269456,  0.3630897 , -0.15227164, -0.44391504,\n",
       "         0.19462997,  0.19528408,  0.05666234,  0.2890704 , -0.28468323,\n",
       "        -0.00531206,  0.0571938 , -0.3201318 , -0.04418665, -0.08550783,\n",
       "        -0.55847436, -0.23336391, -0.20782952, -0.03543064, -0.17533456]],\n",
       "      dtype=float32)>"
      ]
     },
     "execution_count": 16,
     "metadata": {},
     "output_type": "execute_result"
    }
   ],
   "source": [
    "model = \"https://tfhub.dev/google/nnlm-en-dim50/2\"\n",
    "hub_layer = hub.KerasLayer(model, input_shape=[], dtype=tf.string, trainable=True)\n",
    "hub_layer(x_train[:1])"
   ]
  },
  {
   "cell_type": "code",
   "execution_count": 17,
   "metadata": {},
   "outputs": [],
   "source": [
    "model = tf.keras.Sequential()\n",
    "model.add(hub_layer)\n",
    "model.add(tf.keras.layers.Dense(16, activation=\"relu\"))\n",
    "model.add(tf.keras.layers.Dense(1))"
   ]
  },
  {
   "cell_type": "code",
   "execution_count": 18,
   "metadata": {},
   "outputs": [
    {
     "name": "stdout",
     "output_type": "stream",
     "text": [
      "Model: \"sequential\"\n",
      "_________________________________________________________________\n",
      " Layer (type)                Output Shape              Param #   \n",
      "=================================================================\n",
      " keras_layer (KerasLayer)    (None, 50)                48190600  \n",
      "                                                                 \n",
      " dense (Dense)               (None, 16)                816       \n",
      "                                                                 \n",
      " dense_1 (Dense)             (None, 1)                 17        \n",
      "                                                                 \n",
      "=================================================================\n",
      "Total params: 48,191,433\n",
      "Trainable params: 48,191,433\n",
      "Non-trainable params: 0\n",
      "_________________________________________________________________\n"
     ]
    }
   ],
   "source": [
    "model.summary()"
   ]
  },
  {
   "cell_type": "code",
   "execution_count": 19,
   "metadata": {},
   "outputs": [],
   "source": [
    "model.compile(optimizer='adam', loss=tf.losses.BinaryCrossentropy(from_logits=True), metrics=[tf.metrics.BinaryAccuracy(threshold=0.0, name='accuracy')])"
   ]
  },
  {
   "cell_type": "code",
   "execution_count": 20,
   "metadata": {},
   "outputs": [],
   "source": [
    "x_val = x_train[:10000]\n",
    "partial_x_train = x_train[10000:]\n",
    "\n",
    "y_val = y_train[:10000]\n",
    "partial_y_train = y_train[10000:]"
   ]
  },
  {
   "cell_type": "code",
   "execution_count": 21,
   "metadata": {},
   "outputs": [
    {
     "name": "stdout",
     "output_type": "stream",
     "text": [
      "Epoch 1/20\n",
      "30/30 [==============================] - 92s 2s/step - loss: 0.6541 - accuracy: 0.6539 - val_loss: 0.6134 - val_accuracy: 0.7395\n",
      "Epoch 2/20\n",
      "30/30 [==============================] - 56s 2s/step - loss: 0.5412 - accuracy: 0.7977 - val_loss: 0.4930 - val_accuracy: 0.8063\n",
      "Epoch 3/20\n",
      "30/30 [==============================] - 55s 2s/step - loss: 0.4031 - accuracy: 0.8609 - val_loss: 0.3977 - val_accuracy: 0.8408\n",
      "Epoch 4/20\n",
      "30/30 [==============================] - 56s 2s/step - loss: 0.2955 - accuracy: 0.9037 - val_loss: 0.3432 - val_accuracy: 0.8572\n",
      "Epoch 5/20\n",
      "30/30 [==============================] - 54s 2s/step - loss: 0.2195 - accuracy: 0.9292 - val_loss: 0.3144 - val_accuracy: 0.8656\n",
      "Epoch 6/20\n",
      "30/30 [==============================] - 54s 2s/step - loss: 0.1624 - accuracy: 0.9515 - val_loss: 0.3059 - val_accuracy: 0.8715\n",
      "Epoch 7/20\n",
      "30/30 [==============================] - 54s 2s/step - loss: 0.1203 - accuracy: 0.9688 - val_loss: 0.2995 - val_accuracy: 0.8753\n",
      "Epoch 8/20\n",
      "30/30 [==============================] - 52s 2s/step - loss: 0.0873 - accuracy: 0.9811 - val_loss: 0.3021 - val_accuracy: 0.8748\n",
      "Epoch 9/20\n",
      "30/30 [==============================] - 52s 2s/step - loss: 0.0631 - accuracy: 0.9902 - val_loss: 0.3098 - val_accuracy: 0.8751\n",
      "Epoch 10/20\n",
      "30/30 [==============================] - 52s 2s/step - loss: 0.0454 - accuracy: 0.9939 - val_loss: 0.3218 - val_accuracy: 0.8758\n",
      "Epoch 11/20\n",
      "30/30 [==============================] - 53s 2s/step - loss: 0.0325 - accuracy: 0.9975 - val_loss: 0.3334 - val_accuracy: 0.8730\n",
      "Epoch 12/20\n",
      "30/30 [==============================] - 54s 2s/step - loss: 0.0236 - accuracy: 0.9989 - val_loss: 0.3475 - val_accuracy: 0.8722\n",
      "Epoch 13/20\n",
      "30/30 [==============================] - 53s 2s/step - loss: 0.0174 - accuracy: 0.9992 - val_loss: 0.3641 - val_accuracy: 0.8711\n",
      "Epoch 14/20\n",
      "30/30 [==============================] - 52s 2s/step - loss: 0.0133 - accuracy: 0.9995 - val_loss: 0.3730 - val_accuracy: 0.8714\n",
      "Epoch 15/20\n",
      "30/30 [==============================] - 52s 2s/step - loss: 0.0101 - accuracy: 0.9997 - val_loss: 0.3869 - val_accuracy: 0.8709\n",
      "Epoch 16/20\n",
      "30/30 [==============================] - 52s 2s/step - loss: 0.0079 - accuracy: 0.9998 - val_loss: 0.3974 - val_accuracy: 0.8717\n",
      "Epoch 17/20\n",
      "30/30 [==============================] - 52s 2s/step - loss: 0.0063 - accuracy: 0.9999 - val_loss: 0.4076 - val_accuracy: 0.8704\n",
      "Epoch 18/20\n",
      "30/30 [==============================] - 52s 2s/step - loss: 0.0051 - accuracy: 1.0000 - val_loss: 0.4188 - val_accuracy: 0.8707\n",
      "Epoch 19/20\n",
      "30/30 [==============================] - 52s 2s/step - loss: 0.0042 - accuracy: 1.0000 - val_loss: 0.4289 - val_accuracy: 0.8705\n",
      "Epoch 20/20\n",
      "30/30 [==============================] - 52s 2s/step - loss: 0.0035 - accuracy: 1.0000 - val_loss: 0.4396 - val_accuracy: 0.8699\n"
     ]
    }
   ],
   "source": [
    "history = model.fit(partial_x_train,partial_y_train,epochs=20,batch_size=512,validation_data=(x_val, y_val),verbose=1)"
   ]
  },
  {
   "cell_type": "code",
   "execution_count": 22,
   "metadata": {},
   "outputs": [
    {
     "name": "stdout",
     "output_type": "stream",
     "text": [
      "782/782 [==============================] - 141s 180ms/step - loss: 0.4979 - accuracy: 0.8504\n"
     ]
    }
   ],
   "source": [
    "results = model.evaluate(x_test, y_test)"
   ]
  },
  {
   "cell_type": "code",
   "execution_count": 23,
   "metadata": {},
   "outputs": [
    {
     "name": "stdout",
     "output_type": "stream",
     "text": [
      "[0.4978998303413391, 0.8503599762916565]\n"
     ]
    }
   ],
   "source": [
    "print(results)"
   ]
  },
  {
   "cell_type": "code",
   "execution_count": 24,
   "metadata": {},
   "outputs": [
    {
     "data": {
      "text/plain": [
       "dict_keys(['loss', 'accuracy', 'val_loss', 'val_accuracy'])"
      ]
     },
     "execution_count": 24,
     "metadata": {},
     "output_type": "execute_result"
    }
   ],
   "source": [
    "hist_dict = history.history\n",
    "hist_dict.keys()"
   ]
  },
  {
   "cell_type": "code",
   "execution_count": 25,
   "metadata": {},
   "outputs": [
    {
     "data": {
      "image/png": "[encoded data removed]",
      "text/plain": [
       "<Figure size 432x288 with 1 Axes>"
      ]
     },
     "metadata": {
      "needs_background": "light"
     },
     "output_type": "display_data"
    }
   ],
   "source": [
    "acc = hist_dict[\"accuracy\"]\n",
    "val_acc = hist_dict[\"val_accuracy\"]\n",
    "loss = hist_dict[\"loss\"]\n",
    "val_loss = hist_dict[\"val_loss\"]\n",
    "\n",
    "ep = range(len(acc))\n",
    "plt.plot(ep,loss,'b', label=\"Training Loss\")\n",
    "plt.plot(ep,val_loss, 'r', label = \"Test Loss\")\n",
    "plt.title(\"Model Performance\")\n",
    "plt.xlabel(\"Epcohs\")\n",
    "plt.ylabel(\"Loss\")\n",
    "plt.legend()\n",
    "plt.show()"
   ]
  },
  {
   "cell_type": "code",
   "execution_count": 26,
   "metadata": {},
   "outputs": [
    {
     "data": {
      "image/png": "[encoded data removed]",
      "text/plain": [
       "<Figure size 432x288 with 1 Axes>"
      ]
     },
     "metadata": {
      "needs_background": "light"
     },
     "output_type": "display_data"
    }
   ],
   "source": [
    "plt.clf()   # clear figure\n",
    "\n",
    "plt.plot(ep, acc, 'b', label='Training acc')\n",
    "plt.plot(ep, val_acc, 'r', label='Test acc')\n",
    "plt.title('Training and validation accuracy')\n",
    "plt.xlabel('Epochs')\n",
    "plt.ylabel('Accuracy')\n",
    "plt.legend()\n",
    "\n",
    "plt.show()"
   ]
  }
 ],
 "metadata": {
  "interpreter": {
   "hash": "13359a6c2d6277580bce110e3ff6aacc30c1140239f2079fd5c49ab9c5700d6f"
  },
  "kernelspec": {
   "display_name": "Python 3.10.2 64-bit",
   "language": "python",
   "name": "python3"
  },
  "language_info": {
   "codemirror_mode": {
    "name": "ipython",
    "version": 3
   },
   "file_extension": ".py",
   "mimetype": "text/x-python",
   "name": "python",
   "nbconvert_exporter": "python",
   "pygments_lexer": "ipython3",
   "version": "3.10.2"
  },
  "orig_nbformat": 4
 },
 "nbformat": 4,
 "nbformat_minor": 2
}
